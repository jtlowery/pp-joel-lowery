{
 "cells": [
  {
   "cell_type": "code",
   "execution_count": 1,
   "metadata": {
    "collapsed": false
   },
   "outputs": [],
   "source": [
    "import pandas as pd\n",
    "import numpy as np\n",
    "import matplotlib.pyplot as plt\n",
    "import seaborn as sns\n",
    "from sklearn import model_selection\n",
    "from sklearn.linear_model import LogisticRegression\n",
    "from sklearn.metrics import roc_auc_score, roc_curve\n",
    "from sklearn.preprocessing import OneHotEncoder\n",
    "\n",
    "sns.set_style('darkgrid')\n",
    "%matplotlib inline"
   ]
  },
  {
   "cell_type": "code",
   "execution_count": 53,
   "metadata": {
    "collapsed": true
   },
   "outputs": [],
   "source": [
    "_RANDOM_SEED = 2017"
   ]
  },
  {
   "cell_type": "code",
   "execution_count": 54,
   "metadata": {
    "collapsed": true
   },
   "outputs": [],
   "source": [
    "data = pd.read_csv('./data_with_features.csv')"
   ]
  },
  {
   "cell_type": "markdown",
   "metadata": {},
   "source": [
    "## Apply one-hot encoding on the binned variables"
   ]
  },
  {
   "cell_type": "code",
   "execution_count": 55,
   "metadata": {
    "collapsed": false,
    "scrolled": true
   },
   "outputs": [],
   "source": [
    "data = pd.get_dummies(data, prefix='zip4', columns=['SitusZip_4digits'])\n",
    "data = pd.get_dummies(data, prefix='zip3', columns=['SitusZip_3digits'])\n",
    "data = pd.get_dummies(data, prefix='zip2', columns=['SitusZip_2digits'])\n",
    "data = pd.get_dummies(data, prefix='square_footage_bin', columns=['SquareFootage_binned'])\n",
    "data = pd.get_dummies(data, prefix='year_built_bin', columns=['YearBuilt_binned'])"
   ]
  },
  {
   "cell_type": "markdown",
   "metadata": {},
   "source": [
    "## Split into Train and Holdout"
   ]
  },
  {
   "cell_type": "code",
   "execution_count": 56,
   "metadata": {
    "collapsed": false
   },
   "outputs": [],
   "source": [
    "train, validate = model_selection.train_test_split(data, \n",
    "                                               test_size=0.2, \n",
    "                                               train_size=0.8, \n",
    "                                               stratify=data['y'], \n",
    "                                               random_state=_RANDOM_SEED)"
   ]
  },
  {
   "cell_type": "code",
   "execution_count": 57,
   "metadata": {
    "collapsed": true
   },
   "outputs": [],
   "source": [
    "train = train.reset_index(drop=True)\n",
    "validate = validate.reset_index(drop=True)"
   ]
  },
  {
   "cell_type": "markdown",
   "metadata": {},
   "source": [
    "## Split Train into k-folds"
   ]
  },
  {
   "cell_type": "code",
   "execution_count": 58,
   "metadata": {
    "collapsed": false
   },
   "outputs": [
    {
     "data": {
      "text/plain": [
       "5"
      ]
     },
     "execution_count": 58,
     "metadata": {},
     "output_type": "execute_result"
    }
   ],
   "source": [
    "kfolds = model_selection.StratifiedKFold(n_splits=5, random_state=_RANDOM_SEED)\n",
    "kfolds.get_n_splits(X=train, y=data['y'])"
   ]
  },
  {
   "cell_type": "code",
   "execution_count": 59,
   "metadata": {
    "collapsed": true
   },
   "outputs": [],
   "source": [
    "data_cols = data.columns.tolist()"
   ]
  },
  {
   "cell_type": "code",
   "execution_count": 61,
   "metadata": {
    "collapsed": true
   },
   "outputs": [],
   "source": [
    "zip4_cols = [x for x in data_cols if 'zip4_' in x]\n",
    "zip3_cols = [x for x in data_cols if 'zip3_' in x]\n",
    "zip2_cols = [x for x in data_cols if 'zip2_' in x]\n",
    "sqft_cols = [x for x in data_cols if 'square_footage_bin_' in x]\n",
    "year_built_cols = [x for x in data_cols if 'year_built_bin_' in x]"
   ]
  },
  {
   "cell_type": "code",
   "execution_count": 62,
   "metadata": {
    "collapsed": true
   },
   "outputs": [],
   "source": [
    "original_features = ['SitusZip',\n",
    " 'Bathrooms',\n",
    " 'SquareFootage',\n",
    " 'LotSize',\n",
    " 'YearBuilt',\n",
    " 'TaxAmount',\n",
    " 'MarketValue',\n",
    " 'TaxExemptionAmountHomeowner',\n",
    " 'EstimatedValue',\n",
    " 'NumberOfStories',\n",
    " 'MarketImprovementPercent',\n",
    " 'MarketImprovementValue',\n",
    " 'MarketLandValue',\n",
    " 'var_x',\n",
    " 'vacant']"
   ]
  },
  {
   "cell_type": "code",
   "execution_count": 72,
   "metadata": {
    "collapsed": true
   },
   "outputs": [],
   "source": [
    "features = zip3_cols + sqft_cols + year_built_cols + ['vacant', 'Bathrooms_cap', 'NumberOfStories',\n",
    "                                    'estimated_minus_market_cap', \n",
    "                                    'LotSize_cap', 'MarketImprovementPercent_sqd', \n",
    "                                    'has_tax_exemption', 'EstimatedValue_cap', \n",
    "                                    'TaxAmount_cap', 'MarketValue_cap', 'MarketLandValue', \n",
    "                                                      'MarketImprovementValue_cap']"
   ]
  },
  {
   "cell_type": "code",
   "execution_count": 10,
   "metadata": {
    "collapsed": false,
    "scrolled": true
   },
   "outputs": [
    {
     "data": {
      "text/plain": [
       "['PID',\n",
       " 'SitusZip',\n",
       " 'Bathrooms',\n",
       " 'SquareFootage',\n",
       " 'LotSize',\n",
       " 'YearBuilt',\n",
       " 'TaxAmount',\n",
       " 'MarketValue',\n",
       " 'TaxExemptionAmountHomeowner',\n",
       " 'EstimatedValue',\n",
       " 'NumberOfStories',\n",
       " 'MarketImprovementPercent',\n",
       " 'MarketImprovementValue',\n",
       " 'MarketLandValue',\n",
       " 'var_x',\n",
       " 'vacant',\n",
       " 'y',\n",
       " 'Bathrooms_cap',\n",
       " 'has_tax_exemption',\n",
       " 'LotSize_cap',\n",
       " 'YearBuilt_cap',\n",
       " 'YearBuilt_binned',\n",
       " 'MarketValue_cap',\n",
       " 'TaxAmount_cap',\n",
       " 'EstimatedValue_cap',\n",
       " 'estimated_minus_market',\n",
       " 'estimated_minus_market_cap',\n",
       " 'MarketImprovementPercent_cap',\n",
       " 'MarketImprovementPercent_sqd',\n",
       " 'MarketImprovementValue_cap',\n",
       " 'MarketLandValue_cap',\n",
       " 'zip4_7657',\n",
       " 'zip4_7861',\n",
       " 'zip4_7862',\n",
       " 'zip4_7863',\n",
       " 'zip4_7864',\n",
       " 'zip4_7865',\n",
       " 'zip4_7866',\n",
       " 'zip4_7870',\n",
       " 'zip4_7871',\n",
       " 'zip4_7872',\n",
       " 'zip4_7873',\n",
       " 'zip4_7874',\n",
       " 'zip4_7875',\n",
       " 'zip3_765',\n",
       " 'zip3_786',\n",
       " 'zip3_787',\n",
       " 'zip2_76',\n",
       " 'zip2_78',\n",
       " 'square_footage_bin_1',\n",
       " 'square_footage_bin_2',\n",
       " 'square_footage_bin_3',\n",
       " 'square_footage_bin_4',\n",
       " 'square_footage_bin_5',\n",
       " 'square_footage_bin_6',\n",
       " 'square_footage_bin_7',\n",
       " 'square_footage_bin_8',\n",
       " 'square_footage_bin_9',\n",
       " 'square_footage_bin_10',\n",
       " 'square_footage_bin_11',\n",
       " 'square_footage_bin_12',\n",
       " 'square_footage_bin_13',\n",
       " 'square_footage_bin_14',\n",
       " 'square_footage_bin_15',\n",
       " 'square_footage_bin_16',\n",
       " 'square_footage_bin_17',\n",
       " 'square_footage_bin_18',\n",
       " 'square_footage_bin_19',\n",
       " 'square_footage_bin_20',\n",
       " 'square_footage_bin_21']"
      ]
     },
     "execution_count": 10,
     "metadata": {},
     "output_type": "execute_result"
    }
   ],
   "source": [
    "data.columns.tolist()"
   ]
  },
  {
   "cell_type": "code",
   "execution_count": 73,
   "metadata": {
    "collapsed": false
   },
   "outputs": [],
   "source": [
    "def fit_model(train_data, test_data, features, response='y'):\n",
    "    model = LogisticRegression(penalty='l2', \n",
    "                           random_state=_RANDOM_SEED, \n",
    "                           C=.50,\n",
    "                           class_weight='balanced', \n",
    "                           verbose=0)\n",
    "    model = model.fit(X=train[features], y=train[response])\n",
    "    test_data['pred_'] = model.predict_proba(X=test_data[features])[:, 1]\n",
    "    train_data['pred_'] = model.predict_proba(X=train_data[features])[:, 1]\n",
    "    test_auc = roc_auc_score(y_true=test_data['y'], y_score=test_data['pred_'])\n",
    "    train_auc = roc_auc_score(y_true=train_data['y'], y_score=train_data['pred_'])\n",
    "    return test_auc, train_auc"
   ]
  },
  {
   "cell_type": "code",
   "execution_count": 74,
   "metadata": {
    "collapsed": true
   },
   "outputs": [],
   "source": [
    "def fit_cv_models(kfolds, train, features, response='y'):\n",
    "    test_aucs = []\n",
    "    train_aucs = []\n",
    "    for train_indexes, test_indexes in kfolds.split(X=train, y=train[response]):\n",
    "        test_auc, train_auc = fit_model(train.ix[train_indexes], \n",
    "                                        train.ix[test_indexes], features=features)\n",
    "        print('test_auc: {}\\t train_auc: {}'.format(test_auc, train_auc))\n",
    "        test_aucs.append(test_auc)\n",
    "        train_aucs.append(train_auc)\n",
    "    return np.mean(test_aucs), np.mean(train_aucs)"
   ]
  },
  {
   "cell_type": "code",
   "execution_count": 75,
   "metadata": {
    "collapsed": false,
    "scrolled": true
   },
   "outputs": [
    {
     "name": "stdout",
     "output_type": "stream",
     "text": [
      "test_auc: 0.5665149043493753\t train_auc: 0.5616743127225932\n",
      "test_auc: 0.5572316996389397\t train_auc: 0.5639909673851743\n",
      "test_auc: 0.5605841012879761\t train_auc: 0.5631772024097988\n",
      "test_auc: 0.5630478831582949\t train_auc: 0.5625622946085318\n",
      "test_auc: 0.5663571255842433\t train_auc: 0.5617742447472083\n"
     ]
    },
    {
     "data": {
      "text/plain": [
       "(0.56274714280376592, 0.5626358043746611)"
      ]
     },
     "execution_count": 75,
     "metadata": {},
     "output_type": "execute_result"
    }
   ],
   "source": [
    "fit_cv_models(kfolds, train, features=features)"
   ]
  },
  {
   "cell_type": "code",
   "execution_count": 76,
   "metadata": {
    "collapsed": true
   },
   "outputs": [],
   "source": [
    "model = LogisticRegression(penalty='l2', \n",
    "                           random_state=_RANDOM_SEED, \n",
    "                           C=1.0,\n",
    "                           class_weight='balanced', \n",
    "                           verbose=1)"
   ]
  },
  {
   "cell_type": "code",
   "execution_count": 77,
   "metadata": {
    "collapsed": false
   },
   "outputs": [
    {
     "name": "stdout",
     "output_type": "stream",
     "text": [
      "[LibLinear]"
     ]
    }
   ],
   "source": [
    "non_feature_cols = ['y', 'PID', 'SitusZip', 'MarketImprovementPercent_cap', 'estimated_minus_market', 'MarketValue', 'EstimatedValue',\n",
    "                    'SitusZip_4digits', 'class_weight', 'var_x']\n",
    "#features = [x for x in data.columns.tolist() if x not in non_feature_cols]\n",
    "response = 'y'\n",
    "model = model.fit(X=train[features], y=train[response])"
   ]
  },
  {
   "cell_type": "code",
   "execution_count": 78,
   "metadata": {
    "collapsed": false
   },
   "outputs": [],
   "source": [
    "validate['pred_1'] = model.predict_proba(X=validate[features])[:, 1]\n",
    "train['pred_1'] = model.predict_proba(X=train[features])[:, 1]"
   ]
  },
  {
   "cell_type": "code",
   "execution_count": 79,
   "metadata": {
    "collapsed": false
   },
   "outputs": [
    {
     "data": {
      "text/plain": [
       "0.56268502755044814"
      ]
     },
     "execution_count": 79,
     "metadata": {},
     "output_type": "execute_result"
    }
   ],
   "source": [
    "roc_auc_score(y_true=train['y'], y_score=train['pred_1'])"
   ]
  },
  {
   "cell_type": "code",
   "execution_count": 80,
   "metadata": {
    "collapsed": false
   },
   "outputs": [
    {
     "data": {
      "text/plain": [
       "0.53712361954784604"
      ]
     },
     "execution_count": 80,
     "metadata": {},
     "output_type": "execute_result"
    }
   ],
   "source": [
    "roc_auc_score(y_true=validate['y'], y_score=validate['pred_1'])"
   ]
  },
  {
   "cell_type": "code",
   "execution_count": 81,
   "metadata": {
    "collapsed": false
   },
   "outputs": [],
   "source": [
    "fpr, tpr, thresholds = roc_curve(y_true=validate['y'],\n",
    "                                 y_score=validate['pred_1'])"
   ]
  },
  {
   "cell_type": "code",
   "execution_count": 82,
   "metadata": {
    "collapsed": false
   },
   "outputs": [
    {
     "data": {
      "text/plain": [
       "<matplotlib.legend.Legend at 0x7f7b869aacc0>"
      ]
     },
     "execution_count": 82,
     "metadata": {},
     "output_type": "execute_result"
    },
    {
     "data": {
      "image/png": "[encoded data removed]",
      "text/plain": [
       "<matplotlib.figure.Figure at 0x7f7b85fc0588>"
      ]
     },
     "metadata": {},
     "output_type": "display_data"
    }
   ],
   "source": [
    "plt.figure()\n",
    "plt.plot(fpr, tpr, label='test')\n",
    "x = np.arange(0, 1.0, 0.01)\n",
    "plt.plot(x, x, label='random')\n",
    "plt.legend(loc='lower right')"
   ]
  },
  {
   "cell_type": "code",
   "execution_count": null,
   "metadata": {
    "collapsed": true
   },
   "outputs": [],
   "source": []
  },
  {
   "cell_type": "code",
   "execution_count": null,
   "metadata": {
    "collapsed": true
   },
   "outputs": [],
   "source": []
  }
 ],
 "metadata": {
  "anaconda-cloud": {},
  "kernelspec": {
   "display_name": "Python [default]",
   "language": "python",
   "name": "python3"
  },
  "language_info": {
   "codemirror_mode": {
    "name": "ipython",
    "version": 3
   },
   "file_extension": ".py",
   "mimetype": "text/x-python",
   "name": "python",
   "nbconvert_exporter": "python",
   "pygments_lexer": "ipython3",
   "version": "3.5.2"
  }
 },
 "nbformat": 4,
 "nbformat_minor": 1
}
