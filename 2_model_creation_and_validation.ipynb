{
 "cells": [
  {
   "cell_type": "code",
   "execution_count": 1,
   "metadata": {
    "collapsed": false
   },
   "outputs": [],
   "source": [
    "import pandas as pd\n",
    "import numpy as np\n",
    "import matplotlib.pyplot as plt\n",
    "import seaborn as sns\n",
    "from sklearn import model_selection\n",
    "from sklearn.linear_model import LogisticRegression\n",
    "from sklearn.metrics import roc_auc_score, roc_curve\n",
    "from sklearn.preprocessing import OneHotEncoder\n",
    "from sklearn.ensemble import RandomForestClassifier\n",
    "from sklearn.feature_selection import RFECV\n",
    "from sklearn.preprocessing import StandardScaler\n",
    "\n",
    "sns.set_style('darkgrid')\n",
    "%matplotlib inline"
   ]
  },
  {
   "cell_type": "code",
   "execution_count": 2,
   "metadata": {
    "collapsed": true
   },
   "outputs": [],
   "source": [
    "_RANDOM_SEED = 2017"
   ]
  },
  {
   "cell_type": "code",
   "execution_count": 3,
   "metadata": {
    "collapsed": true
   },
   "outputs": [],
   "source": [
    "data = pd.read_csv('./data_with_features.csv')"
   ]
  },
  {
   "cell_type": "markdown",
   "metadata": {},
   "source": [
    "## Apply one-hot encoding on the binned variables"
   ]
  },
  {
   "cell_type": "code",
   "execution_count": 4,
   "metadata": {
    "collapsed": false,
    "scrolled": true
   },
   "outputs": [],
   "source": [
    "data = pd.get_dummies(data, prefix='zip4', columns=['SitusZip_4digits'])\n",
    "data = pd.get_dummies(data, prefix='zip3', columns=['SitusZip_3digits'])\n",
    "data = pd.get_dummies(data, prefix='zip2', columns=['SitusZip_2digits'])\n",
    "data = pd.get_dummies(data, prefix='square_footage_bin', columns=['SquareFootage_binned'])\n",
    "data = pd.get_dummies(data, prefix='year_built_bin', columns=['YearBuilt_binned'])\n",
    "data = pd.get_dummies(data, prefix='var_x_bin', columns=['var_x_binned'])"
   ]
  },
  {
   "cell_type": "markdown",
   "metadata": {},
   "source": [
    "## Split into Train and Holdout"
   ]
  },
  {
   "cell_type": "code",
   "execution_count": 5,
   "metadata": {
    "collapsed": true
   },
   "outputs": [],
   "source": [
    "train, validate = model_selection.train_test_split(data, \n",
    "                                               test_size=0.2, \n",
    "                                               train_size=0.8, \n",
    "                                               stratify=data['y'], \n",
    "                                               random_state=_RANDOM_SEED)"
   ]
  },
  {
   "cell_type": "code",
   "execution_count": 6,
   "metadata": {
    "collapsed": true
   },
   "outputs": [],
   "source": [
    "train = train.reset_index(drop=True)\n",
    "validate = validate.reset_index(drop=True)"
   ]
  },
  {
   "cell_type": "code",
   "execution_count": 7,
   "metadata": {
    "collapsed": false
   },
   "outputs": [],
   "source": [
    "zip4_cols = [x for x in data.columns if 'zip4_' in x]\n",
    "zip3_cols = [x for x in data.columns if 'zip3_' in x]\n",
    "zip2_cols = [x for x in data.columns if 'zip2_' in x]\n",
    "sqft_cols = [x for x in data.columns if 'square_footage_bin_' in x]\n",
    "year_built_cols = [x for x in data.columns if 'year_built_bin_' in x]\n",
    "var_x_cols = [x for x in data.columns if 'var_x_bin_' in x]\n",
    "categorical_features = (zip4_cols + zip3_cols + zip2_cols + \n",
    "                        sqft_cols + year_built_cols + var_x_cols + \n",
    "                        ['vacant'] + ['has_tax_exemption'])\n",
    "numeric_features = ['Bathrooms_capped', 'NumberOfStories', 'estimated_minus_market_capped', \n",
    "                    'LotSize_capped', 'MarketImprovementPercent_parabola', \n",
    "                    'EstimatedValue_capped', 'TaxAmount_capped', 'MarketValue_capped', \n",
    "                    'MarketLandValue', 'MarketImprovementValue_capped']"
   ]
  },
  {
   "cell_type": "markdown",
   "metadata": {},
   "source": [
    "## Apply Feature Scaling"
   ]
  },
  {
   "cell_type": "code",
   "execution_count": 8,
   "metadata": {
    "collapsed": false,
    "scrolled": true
   },
   "outputs": [
    {
     "name": "stderr",
     "output_type": "stream",
     "text": [
      "/home/joel/Installs/anaconda3/lib/python3.5/site-packages/sklearn/utils/validation.py:429: DataConversionWarning: Data with input dtype int64 was converted to float64 by StandardScaler.\n",
      "  warnings.warn(msg, _DataConversionWarning)\n"
     ]
    }
   ],
   "source": [
    "scaled_features = []\n",
    "for feat in (numeric_features):\n",
    "    scaler = StandardScaler()\n",
    "    scaled_feature = feat + '_scaled' \n",
    "    train[scaled_feature] = scaler.fit_transform(train[feat].values.reshape(-1, 1))\n",
    "    validate[scaled_feature] = scaler.transform(validate[feat].values.reshape(-1, 1))\n",
    "    scaled_features.append(scaled_feature)"
   ]
  },
  {
   "cell_type": "markdown",
   "metadata": {},
   "source": [
    "## Split Train into k-folds"
   ]
  },
  {
   "cell_type": "code",
   "execution_count": 9,
   "metadata": {
    "collapsed": false
   },
   "outputs": [
    {
     "data": {
      "text/plain": [
       "5"
      ]
     },
     "execution_count": 9,
     "metadata": {},
     "output_type": "execute_result"
    }
   ],
   "source": [
    "kfolds = model_selection.StratifiedKFold(n_splits=5, random_state=_RANDOM_SEED)\n",
    "kfolds.get_n_splits(X=train, y=data['y'])"
   ]
  },
  {
   "cell_type": "markdown",
   "metadata": {},
   "source": [
    "## Initial Pass at a Model with All Features "
   ]
  },
  {
   "cell_type": "code",
   "execution_count": 11,
   "metadata": {
    "collapsed": false
   },
   "outputs": [],
   "source": [
    "def fit_model(train_data, test_data, features, response='y'):\n",
    "    model = LogisticRegression(penalty='l2', \n",
    "                               random_state=_RANDOM_SEED, \n",
    "                               C=1.0,\n",
    "                               class_weight='balanced', \n",
    "                               verbose=0)\n",
    "    model = model.fit(X=train[features], y=train[response])\n",
    "    test_data['pred_'] = model.predict_proba(X=test_data[features])[:, 1]\n",
    "    train_data['pred_'] = model.predict_proba(X=train_data[features])[:, 1]\n",
    "    test_auc = roc_auc_score(y_true=test_data['y'], y_score=test_data['pred_'])\n",
    "    train_auc = roc_auc_score(y_true=train_data['y'], y_score=train_data['pred_'])\n",
    "    return test_auc, train_auc"
   ]
  },
  {
   "cell_type": "code",
   "execution_count": 12,
   "metadata": {
    "collapsed": true
   },
   "outputs": [],
   "source": [
    "def fit_cv_models(kfolds, train, features, response='y'):\n",
    "    test_aucs = []\n",
    "    train_aucs = []\n",
    "    for train_indexes, test_indexes in kfolds.split(X=train, y=train[response]):\n",
    "        test_auc, train_auc = fit_model(train.ix[train_indexes], \n",
    "                                        train.ix[test_indexes], features=features)\n",
    "        print('test_auc: {}\\t train_auc: {}'.format(test_auc, train_auc))\n",
    "        test_aucs.append(test_auc)\n",
    "        train_aucs.append(train_auc)\n",
    "    return np.mean(test_aucs), np.mean(train_aucs)"
   ]
  },
  {
   "cell_type": "code",
   "execution_count": 13,
   "metadata": {
    "collapsed": false,
    "scrolled": true
   },
   "outputs": [
    {
     "name": "stdout",
     "output_type": "stream",
     "text": [
      "test_auc: 0.5716386090358876\t train_auc: 0.5702356017890658\n",
      "test_auc: 0.5696109714364033\t train_auc: 0.5707383282212507\n",
      "test_auc: 0.5672763655490909\t train_auc: 0.5713480235505348\n",
      "test_auc: 0.5732434897446085\t train_auc: 0.5697781923834986\n",
      "test_auc: 0.5709076422277736\t train_auc: 0.5703980761856408\n"
     ]
    },
    {
     "data": {
      "text/plain": [
       "(0.57053541559875276, 0.5704996444259981)"
      ]
     },
     "execution_count": 13,
     "metadata": {},
     "output_type": "execute_result"
    }
   ],
   "source": [
    "fit_cv_models(kfolds, train, features=scaled_features + categorical_features)"
   ]
  },
  {
   "cell_type": "markdown",
   "metadata": {},
   "source": [
    "## Feature Selection"
   ]
  },
  {
   "cell_type": "code",
   "execution_count": 14,
   "metadata": {
    "collapsed": false,
    "scrolled": true
   },
   "outputs": [
    {
     "data": {
      "text/plain": [
       "RFECV(cv=StratifiedKFold(n_splits=5, random_state=2017, shuffle=False),\n",
       "   estimator=LogisticRegression(C=1.0, class_weight='balanced', dual=False,\n",
       "          fit_intercept=True, intercept_scaling=1, max_iter=100,\n",
       "          multi_class='ovr', n_jobs=1, penalty='l2', random_state=2017,\n",
       "          solver='liblinear', tol=0.0001, verbose=0, warm_start=False),\n",
       "   n_jobs=6, scoring='roc_auc', step=1, verbose=0)"
      ]
     },
     "execution_count": 14,
     "metadata": {},
     "output_type": "execute_result"
    }
   ],
   "source": [
    "log_reg = LogisticRegression(penalty='l2', \n",
    "                             random_state=_RANDOM_SEED, \n",
    "                             C=1.0,\n",
    "                             class_weight='balanced', \n",
    "                             verbose=0)\n",
    "rfecv = RFECV(estimator=log_reg, step=1, cv=kfolds,\n",
    "              scoring='roc_auc', n_jobs=6, verbose=0)\n",
    "rfecv.fit(train[scaled_features + categorical_features], train['y'])"
   ]
  },
  {
   "cell_type": "code",
   "execution_count": 15,
   "metadata": {
    "collapsed": false,
    "scrolled": true
   },
   "outputs": [
    {
     "data": {
      "text/plain": [
       "(59, array([ True,  True,  True,  True,  True,  True,  True,  True,  True,\n",
       "         True,  True,  True,  True,  True,  True,  True, False,  True,\n",
       "         True,  True,  True,  True, False,  True,  True,  True,  True,\n",
       "        False,  True,  True,  True,  True,  True,  True,  True,  True,\n",
       "         True,  True,  True,  True,  True, False,  True, False, False,\n",
       "         True,  True,  True,  True,  True,  True, False,  True,  True,\n",
       "         True,  True,  True,  True, False, False,  True, False,  True,\n",
       "         True,  True,  True,  True,  True,  True], dtype=bool), array([ 1,  1,  1,  1,  1,  1,  1,  1,  1,  1,  1,  1,  1,  1,  1,  1,  3,\n",
       "         1,  1,  1,  1,  1,  7,  1,  1,  1,  1,  4,  1,  1,  1,  1,  1,  1,\n",
       "         1,  1,  1,  1,  1,  1,  1, 11,  1,  8,  6,  1,  1,  1,  1,  1,  1,\n",
       "         9,  1,  1,  1,  1,  1,  1,  5,  2,  1, 10,  1,  1,  1,  1,  1,  1,\n",
       "         1]))"
      ]
     },
     "execution_count": 15,
     "metadata": {},
     "output_type": "execute_result"
    }
   ],
   "source": [
    "rfecv.n_features_, rfecv.support_, rfecv.ranking_"
   ]
  },
  {
   "cell_type": "code",
   "execution_count": 16,
   "metadata": {
    "collapsed": false
   },
   "outputs": [],
   "source": [
    "selected_features = []\n",
    "deselected_features = []\n",
    "for feat, support in zip(scaled_features + categorical_features, rfecv.support_):\n",
    "    if not support:\n",
    "        deselected_features.append(feat)\n",
    "    else:\n",
    "        selected_features.append(feat)"
   ]
  },
  {
   "cell_type": "code",
   "execution_count": 17,
   "metadata": {
    "collapsed": false,
    "scrolled": true
   },
   "outputs": [
    {
     "data": {
      "text/plain": [
       "['Bathrooms_capped_scaled',\n",
       " 'NumberOfStories_scaled',\n",
       " 'estimated_minus_market_capped_scaled',\n",
       " 'LotSize_capped_scaled',\n",
       " 'MarketImprovementPercent_parabola_scaled',\n",
       " 'EstimatedValue_capped_scaled',\n",
       " 'TaxAmount_capped_scaled',\n",
       " 'MarketValue_capped_scaled',\n",
       " 'MarketLandValue_scaled',\n",
       " 'MarketImprovementValue_capped_scaled',\n",
       " 'zip4_7657',\n",
       " 'zip4_7861',\n",
       " 'zip4_7862',\n",
       " 'zip4_7863',\n",
       " 'zip4_7864',\n",
       " 'zip4_7865',\n",
       " 'zip4_7870',\n",
       " 'zip4_7871',\n",
       " 'zip4_7872',\n",
       " 'zip4_7873',\n",
       " 'zip4_7874',\n",
       " 'zip3_765',\n",
       " 'zip3_786',\n",
       " 'zip3_787',\n",
       " 'zip2_76',\n",
       " 'square_footage_bin_1',\n",
       " 'square_footage_bin_2',\n",
       " 'square_footage_bin_3',\n",
       " 'square_footage_bin_4',\n",
       " 'square_footage_bin_5',\n",
       " 'square_footage_bin_6',\n",
       " 'square_footage_bin_7',\n",
       " 'square_footage_bin_8',\n",
       " 'square_footage_bin_9',\n",
       " 'square_footage_bin_10',\n",
       " 'square_footage_bin_11',\n",
       " 'square_footage_bin_12',\n",
       " 'square_footage_bin_13',\n",
       " 'square_footage_bin_15',\n",
       " 'square_footage_bin_18',\n",
       " 'square_footage_bin_19',\n",
       " 'square_footage_bin_20',\n",
       " 'square_footage_bin_21',\n",
       " 'year_built_bin_1',\n",
       " 'year_built_bin_2',\n",
       " 'year_built_bin_4',\n",
       " 'year_built_bin_5',\n",
       " 'year_built_bin_6',\n",
       " 'year_built_bin_7',\n",
       " 'var_x_bin_1',\n",
       " 'var_x_bin_2',\n",
       " 'var_x_bin_5',\n",
       " 'var_x_bin_7',\n",
       " 'var_x_bin_8',\n",
       " 'var_x_bin_9',\n",
       " 'var_x_bin_10',\n",
       " 'var_x_bin_11',\n",
       " 'vacant',\n",
       " 'has_tax_exemption']"
      ]
     },
     "execution_count": 17,
     "metadata": {},
     "output_type": "execute_result"
    }
   ],
   "source": [
    "selected_features"
   ]
  },
  {
   "cell_type": "code",
   "execution_count": 18,
   "metadata": {
    "collapsed": false,
    "scrolled": true
   },
   "outputs": [
    {
     "data": {
      "text/plain": [
       "['zip4_7866',\n",
       " 'zip4_7875',\n",
       " 'zip2_78',\n",
       " 'square_footage_bin_14',\n",
       " 'square_footage_bin_16',\n",
       " 'square_footage_bin_17',\n",
       " 'year_built_bin_3',\n",
       " 'var_x_bin_3',\n",
       " 'var_x_bin_4',\n",
       " 'var_x_bin_6']"
      ]
     },
     "execution_count": 18,
     "metadata": {},
     "output_type": "execute_result"
    }
   ],
   "source": [
    "deselected_features"
   ]
  },
  {
   "cell_type": "code",
   "execution_count": 19,
   "metadata": {
    "collapsed": false,
    "scrolled": true
   },
   "outputs": [
    {
     "data": {
      "text/plain": [
       "array([ 0.50373864,  0.50516036,  0.50732399,  0.50783902,  0.50893529,\n",
       "        0.51054495,  0.51823625,  0.53093586,  0.53545223,  0.54393474,\n",
       "        0.54664867,  0.54382099,  0.54330159,  0.54133587,  0.53993905,\n",
       "        0.53876616,  0.53824823,  0.54103345,  0.54117008,  0.54208336,\n",
       "        0.54217281,  0.54030513,  0.54237743,  0.5401489 ,  0.54059583,\n",
       "        0.54027725,  0.54084955,  0.54074204,  0.53996759,  0.53973375,\n",
       "        0.54005208,  0.54010404,  0.54025693,  0.54080907,  0.54065684,\n",
       "        0.54181731,  0.54370975,  0.54317935,  0.54304174,  0.54292327,\n",
       "        0.54284815,  0.54272757,  0.54278735,  0.54382526,  0.54414368,\n",
       "        0.5449776 ,  0.54533474,  0.54523826,  0.54520566,  0.5458244 ,\n",
       "        0.54590256,  0.54586306,  0.54609994,  0.5461096 ,  0.54649369,\n",
       "        0.54744782,  0.54763524,  0.54767389,  0.5478738 ,  0.54773738,\n",
       "        0.54766059,  0.54773206,  0.54777419,  0.54773891,  0.54769866,\n",
       "        0.54771079,  0.54772285,  0.54768624,  0.54768671])"
      ]
     },
     "execution_count": 19,
     "metadata": {},
     "output_type": "execute_result"
    }
   ],
   "source": [
    "rfecv.grid_scores_"
   ]
  },
  {
   "cell_type": "code",
   "execution_count": 20,
   "metadata": {
    "collapsed": false
   },
   "outputs": [
    {
     "data": {
      "image/png": "[encoded data removed]",
      "text/plain": [
       "<matplotlib.figure.Figure at 0x7f1cdd4e3d68>"
      ]
     },
     "metadata": {},
     "output_type": "display_data"
    }
   ],
   "source": [
    "plt.figure()\n",
    "plt.xlabel('Number of Features Selected')\n",
    "plt.ylabel('Cross Validation Score (AUC)')\n",
    "plt.plot(range(1, len(rfecv.grid_scores_) + 1), rfecv.grid_scores_)\n",
    "plt.show()"
   ]
  },
  {
   "cell_type": "markdown",
   "metadata": {},
   "source": [
    "## Build Final Model on Entire Train Set with Selected Features"
   ]
  },
  {
   "cell_type": "code",
   "execution_count": 21,
   "metadata": {
    "collapsed": false
   },
   "outputs": [],
   "source": [
    "model = LogisticRegression(penalty='l2', \n",
    "                           random_state=_RANDOM_SEED, \n",
    "                           C=1.0,\n",
    "                           class_weight='balanced', \n",
    "                           verbose=0)\n",
    "model = model.fit(X=train[selected_features], y=train['y'])"
   ]
  },
  {
   "cell_type": "code",
   "execution_count": 22,
   "metadata": {
    "collapsed": false
   },
   "outputs": [],
   "source": [
    "validate['pred_1'] = model.predict_proba(X=validate[selected_features])[:, 1]\n",
    "train['pred_1'] = model.predict_proba(X=train[selected_features])[:, 1]"
   ]
  },
  {
   "cell_type": "code",
   "execution_count": 23,
   "metadata": {
    "collapsed": false
   },
   "outputs": [
    {
     "data": {
      "text/plain": [
       "0.57037620163388958"
      ]
     },
     "execution_count": 23,
     "metadata": {},
     "output_type": "execute_result"
    }
   ],
   "source": [
    "roc_auc_score(y_true=train['y'], y_score=train['pred_1'])"
   ]
  },
  {
   "cell_type": "code",
   "execution_count": 24,
   "metadata": {
    "collapsed": false
   },
   "outputs": [
    {
     "data": {
      "text/plain": [
       "0.54487622978814143"
      ]
     },
     "execution_count": 24,
     "metadata": {},
     "output_type": "execute_result"
    }
   ],
   "source": [
    "roc_auc_score(y_true=validate['y'], y_score=validate['pred_1'])"
   ]
  },
  {
   "cell_type": "code",
   "execution_count": 25,
   "metadata": {
    "collapsed": false
   },
   "outputs": [],
   "source": [
    "fpr, tpr, thresholds = roc_curve(y_true=validate['y'],\n",
    "                                 y_score=validate['pred_1'])\n",
    "fpr_train, tpr_train, thresholds_train = roc_curve(y_true=train['y'],\n",
    "                                                   y_score=train['pred_1'])"
   ]
  },
  {
   "cell_type": "code",
   "execution_count": 28,
   "metadata": {
    "collapsed": false
   },
   "outputs": [
    {
     "data": {
      "text/plain": [
       "<matplotlib.text.Text at 0x7f1cc3866240>"
      ]
     },
     "execution_count": 28,
     "metadata": {},
     "output_type": "execute_result"
    },
    {
     "data": {
      "image/png": "[encoded data removed]",
      "text/plain": [
       "<matplotlib.figure.Figure at 0x7f1cdd9cbc18>"
      ]
     },
     "metadata": {},
     "output_type": "display_data"
    }
   ],
   "source": [
    "plt.figure()\n",
    "plt.plot(fpr, tpr, label='test')\n",
    "plt.plot(fpr_train, tpr_train, label='train')\n",
    "x = np.arange(0, 1.01, 0.01)\n",
    "plt.plot(x, x, label='random')\n",
    "plt.legend(loc='lower right')\n",
    "plt.title('ROC Curve')\n",
    "plt.xlabel('False Positive Rate')\n",
    "plt.ylabel('True Positive Rate')"
   ]
  },
  {
   "cell_type": "code",
   "execution_count": null,
   "metadata": {
    "collapsed": true
   },
   "outputs": [],
   "source": []
  }
 ],
 "metadata": {
  "anaconda-cloud": {},
  "kernelspec": {
   "display_name": "Python [default]",
   "language": "python",
   "name": "python3"
  },
  "language_info": {
   "codemirror_mode": {
    "name": "ipython",
    "version": 3
   },
   "file_extension": ".py",
   "mimetype": "text/x-python",
   "name": "python",
   "nbconvert_exporter": "python",
   "pygments_lexer": "ipython3",
   "version": "3.5.2"
  }
 },
 "nbformat": 4,
 "nbformat_minor": 1
}
